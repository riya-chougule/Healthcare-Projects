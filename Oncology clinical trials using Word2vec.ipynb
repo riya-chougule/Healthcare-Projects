{
 "cells": [
  {
   "cell_type": "code",
   "execution_count": 1,
   "id": "53d97689",
   "metadata": {
    "collapsed": true
   },
   "outputs": [
    {
     "name": "stdout",
     "output_type": "stream",
     "text": [
      "Collecting turicreate\n",
      "  Using cached turicreate-6.4.tar.gz (1.9 kB)\n",
      "Building wheels for collected packages: turicreate\n",
      "  Building wheel for turicreate (setup.py) ... \u001b[?25lerror\n",
      "\u001b[31m  ERROR: Command errored out with exit status 1:\n",
      "   command: /Users/riya/opt/anaconda3/bin/python -u -c 'import io, os, sys, setuptools, tokenize; sys.argv[0] = '\"'\"'/private/var/folders/cd/n3q7rkq55tl_cmxkz2gmlg4w0000gn/T/pip-install-b4ekm5fq/turicreate_64ba44f7dbe3435285b5e48be2534807/setup.py'\"'\"'; __file__='\"'\"'/private/var/folders/cd/n3q7rkq55tl_cmxkz2gmlg4w0000gn/T/pip-install-b4ekm5fq/turicreate_64ba44f7dbe3435285b5e48be2534807/setup.py'\"'\"';f = getattr(tokenize, '\"'\"'open'\"'\"', open)(__file__) if os.path.exists(__file__) else io.StringIO('\"'\"'from setuptools import setup; setup()'\"'\"');code = f.read().replace('\"'\"'\\r\\n'\"'\"', '\"'\"'\\n'\"'\"');f.close();exec(compile(code, __file__, '\"'\"'exec'\"'\"'))' bdist_wheel -d /private/var/folders/cd/n3q7rkq55tl_cmxkz2gmlg4w0000gn/T/pip-wheel-c1wsy6_e\n",
      "       cwd: /private/var/folders/cd/n3q7rkq55tl_cmxkz2gmlg4w0000gn/T/pip-install-b4ekm5fq/turicreate_64ba44f7dbe3435285b5e48be2534807/\n",
      "  Complete output (44 lines):\n",
      "  running bdist_wheel\n",
      "  running build\n",
      "  /Users/riya/opt/anaconda3/lib/python3.9/site-packages/setuptools/_distutils/cmd.py:66: SetuptoolsDeprecationWarning: setup.py install is deprecated.\n",
      "  !!\n",
      "  \n",
      "          ********************************************************************************\n",
      "          Please avoid running ``setup.py`` directly.\n",
      "          Instead, use pypa/build, pypa/installer or other\n",
      "          standards-based tools.\n",
      "  \n",
      "          See https://blog.ganssle.io/articles/2021/10/setup-py-deprecated.html for details.\n",
      "          ********************************************************************************\n",
      "  \n",
      "  !!\n",
      "    self.initialize_options()\n",
      "  installing to build/bdist.macosx-10.9-x86_64/wheel\n",
      "  running install\n",
      "  \n",
      "  \n",
      "  \n",
      "          ==================================================================================\n",
      "          TURICREATE ERROR\n",
      "  \n",
      "          If you see this message, pip install did not find an available binary package\n",
      "          for your system.\n",
      "  \n",
      "          Supported Platforms:\n",
      "              * macOS 10.12+ x86_64.\n",
      "              * Linux x86_64 (including WSL on Windows 10).\n",
      "  \n",
      "          Support Python Versions:\n",
      "              * 2.7\n",
      "              * 3.5\n",
      "              * 3.6\n",
      "              * 3.7\n",
      "              * 3.8\n",
      "  \n",
      "          Another possible cause of this error is an outdated pip version. Try:\n",
      "              `pip install -U pip`\n",
      "  \n",
      "          ==================================================================================\n",
      "  \n",
      "  \n",
      "  \n",
      "  ----------------------------------------\u001b[0m\n",
      "\u001b[31m  ERROR: Failed building wheel for turicreate\u001b[0m\n",
      "\u001b[?25h  Running setup.py clean for turicreate\n",
      "Failed to build turicreate\n",
      "Installing collected packages: turicreate\n",
      "    Running setup.py install for turicreate ... \u001b[?25lerror\n",
      "\u001b[31m    ERROR: Command errored out with exit status 1:\n",
      "     command: /Users/riya/opt/anaconda3/bin/python -u -c 'import io, os, sys, setuptools, tokenize; sys.argv[0] = '\"'\"'/private/var/folders/cd/n3q7rkq55tl_cmxkz2gmlg4w0000gn/T/pip-install-b4ekm5fq/turicreate_64ba44f7dbe3435285b5e48be2534807/setup.py'\"'\"'; __file__='\"'\"'/private/var/folders/cd/n3q7rkq55tl_cmxkz2gmlg4w0000gn/T/pip-install-b4ekm5fq/turicreate_64ba44f7dbe3435285b5e48be2534807/setup.py'\"'\"';f = getattr(tokenize, '\"'\"'open'\"'\"', open)(__file__) if os.path.exists(__file__) else io.StringIO('\"'\"'from setuptools import setup; setup()'\"'\"');code = f.read().replace('\"'\"'\\r\\n'\"'\"', '\"'\"'\\n'\"'\"');f.close();exec(compile(code, __file__, '\"'\"'exec'\"'\"'))' install --record /private/var/folders/cd/n3q7rkq55tl_cmxkz2gmlg4w0000gn/T/pip-record-7njc6win/install-record.txt --single-version-externally-managed --compile --install-headers /Users/riya/opt/anaconda3/include/python3.9/turicreate\n",
      "         cwd: /private/var/folders/cd/n3q7rkq55tl_cmxkz2gmlg4w0000gn/T/pip-install-b4ekm5fq/turicreate_64ba44f7dbe3435285b5e48be2534807/\n",
      "    Complete output (41 lines):\n",
      "    running install\n",
      "    /Users/riya/opt/anaconda3/lib/python3.9/site-packages/setuptools/_distutils/cmd.py:66: SetuptoolsDeprecationWarning: setup.py install is deprecated.\n",
      "    !!\n",
      "    \n",
      "            ********************************************************************************\n",
      "            Please avoid running ``setup.py`` directly.\n",
      "            Instead, use pypa/build, pypa/installer or other\n",
      "            standards-based tools.\n",
      "    \n",
      "            See https://blog.ganssle.io/articles/2021/10/setup-py-deprecated.html for details.\n",
      "            ********************************************************************************\n",
      "    \n",
      "    !!\n",
      "      self.initialize_options()\n",
      "    \n",
      "    \n",
      "    \n",
      "            ==================================================================================\n",
      "            TURICREATE ERROR\n",
      "    \n",
      "            If you see this message, pip install did not find an available binary package\n",
      "            for your system.\n",
      "    \n",
      "            Supported Platforms:\n",
      "                * macOS 10.12+ x86_64.\n",
      "                * Linux x86_64 (including WSL on Windows 10).\n",
      "    \n",
      "            Support Python Versions:\n",
      "                * 2.7\n",
      "                * 3.5\n",
      "                * 3.6\n",
      "                * 3.7\n",
      "                * 3.8\n",
      "    \n",
      "            Another possible cause of this error is an outdated pip version. Try:\n",
      "                `pip install -U pip`\n",
      "    \n",
      "            ==================================================================================\n",
      "    \n",
      "    \n",
      "    \n",
      "    ----------------------------------------\u001b[0m\n",
      "\u001b[31mERROR: Command errored out with exit status 1: /Users/riya/opt/anaconda3/bin/python -u -c 'import io, os, sys, setuptools, tokenize; sys.argv[0] = '\"'\"'/private/var/folders/cd/n3q7rkq55tl_cmxkz2gmlg4w0000gn/T/pip-install-b4ekm5fq/turicreate_64ba44f7dbe3435285b5e48be2534807/setup.py'\"'\"'; __file__='\"'\"'/private/var/folders/cd/n3q7rkq55tl_cmxkz2gmlg4w0000gn/T/pip-install-b4ekm5fq/turicreate_64ba44f7dbe3435285b5e48be2534807/setup.py'\"'\"';f = getattr(tokenize, '\"'\"'open'\"'\"', open)(__file__) if os.path.exists(__file__) else io.StringIO('\"'\"'from setuptools import setup; setup()'\"'\"');code = f.read().replace('\"'\"'\\r\\n'\"'\"', '\"'\"'\\n'\"'\"');f.close();exec(compile(code, __file__, '\"'\"'exec'\"'\"'))' install --record /private/var/folders/cd/n3q7rkq55tl_cmxkz2gmlg4w0000gn/T/pip-record-7njc6win/install-record.txt --single-version-externally-managed --compile --install-headers /Users/riya/opt/anaconda3/include/python3.9/turicreate Check the logs for full command output.\u001b[0m\n",
      "\u001b[?25h"
     ]
    }
   ],
   "source": [
    "!pip3 install turicreate"
   ]
  },
  {
   "cell_type": "code",
   "execution_count": 2,
   "id": "6be5fed5",
   "metadata": {
    "collapsed": true
   },
   "outputs": [
    {
     "name": "stdout",
     "output_type": "stream",
     "text": [
      "Requirement already satisfied: nltk in /Users/riya/opt/anaconda3/lib/python3.9/site-packages (3.7)\n",
      "Requirement already satisfied: tqdm in /Users/riya/opt/anaconda3/lib/python3.9/site-packages (from nltk) (4.64.0)\n",
      "Requirement already satisfied: joblib in /Users/riya/opt/anaconda3/lib/python3.9/site-packages (from nltk) (1.1.0)\n",
      "Requirement already satisfied: click in /Users/riya/opt/anaconda3/lib/python3.9/site-packages (from nltk) (8.0.4)\n",
      "Requirement already satisfied: regex>=2021.8.3 in /Users/riya/opt/anaconda3/lib/python3.9/site-packages (from nltk) (2022.3.15)\n"
     ]
    }
   ],
   "source": [
    "!pip install nltk"
   ]
  },
  {
   "cell_type": "code",
   "execution_count": 3,
   "id": "f06e4e7f",
   "metadata": {
    "collapsed": true
   },
   "outputs": [
    {
     "name": "stdout",
     "output_type": "stream",
     "text": [
      "Collecting package metadata (current_repodata.json): done\n",
      "Solving environment: failed with initial frozen solve. Retrying with flexible solve.\n",
      "Collecting package metadata (repodata.json): done\n",
      "Solving environment: failed with initial frozen solve. Retrying with flexible solve.\n",
      "\n",
      "PackagesNotFoundError: The following packages are not available from current channels:\n",
      "\n",
      "  - worked\n",
      "\n",
      "Current channels:\n",
      "\n",
      "  - https://repo.anaconda.com/pkgs/main/osx-64\n",
      "  - https://repo.anaconda.com/pkgs/main/noarch\n",
      "  - https://repo.anaconda.com/pkgs/r/osx-64\n",
      "  - https://repo.anaconda.com/pkgs/r/noarch\n",
      "\n",
      "To search for alternate channels that may provide the conda package you're\n",
      "looking for, navigate to\n",
      "\n",
      "    https://anaconda.org\n",
      "\n",
      "and use the search bar at the top of the page.\n",
      "\n",
      "\n"
     ]
    }
   ],
   "source": [
    "!conda install gensim worked"
   ]
  },
  {
   "cell_type": "code",
   "execution_count": 1,
   "id": "04436bf6",
   "metadata": {},
   "outputs": [],
   "source": [
    "import re\n",
    "import gensim\n",
    "from gensim import corpora, models, similarities\n",
    "import nltk\n",
    "import pandas as pd\n",
    "import os\n",
    "import codecs\n",
    "from gensim.models import Word2Vec\n",
    "import time"
   ]
  },
  {
   "cell_type": "code",
   "execution_count": 2,
   "id": "9e06bd2a",
   "metadata": {},
   "outputs": [],
   "source": [
    "import warnings\n",
    "warnings.filterwarnings('ignore')"
   ]
  },
  {
   "cell_type": "code",
   "execution_count": 3,
   "id": "63175fac",
   "metadata": {},
   "outputs": [],
   "source": [
    "corpus = pd.read_csv(\"labeledEligibilitySample1000000.csv\", \n",
    "                     sep='\\t',\n",
    "                     error_bad_lines=False,\n",
    "                     header=None)"
   ]
  },
  {
   "cell_type": "code",
   "execution_count": 4,
   "id": "68ed4109",
   "metadata": {},
   "outputs": [
    {
     "data": {
      "text/plain": [
       "1000000"
      ]
     },
     "execution_count": 4,
     "metadata": {},
     "output_type": "execute_result"
    }
   ],
   "source": [
    "len(corpus)"
   ]
  },
  {
   "cell_type": "code",
   "execution_count": 5,
   "id": "1dbff12b",
   "metadata": {},
   "outputs": [
    {
     "data": {
      "text/plain": [
       "array(['__label__0', '__label__1'], dtype=object)"
      ]
     },
     "execution_count": 5,
     "metadata": {},
     "output_type": "execute_result"
    }
   ],
   "source": [
    "corpus.iloc[:,0].unique()"
   ]
  },
  {
   "cell_type": "code",
   "execution_count": 6,
   "id": "531b929d",
   "metadata": {},
   "outputs": [
    {
     "data": {
      "text/plain": [
       "0    study interventions are recombinant CD40-ligan...\n",
       "1    study interventions are Liposomal doxorubicin ...\n",
       "2    study interventions are BI 836909 . multiple m...\n",
       "3    study interventions are Immunoglobulins . recu...\n",
       "4    study interventions are Paclitaxel . stage ova...\n",
       "Name: 1, dtype: object"
      ]
     },
     "execution_count": 6,
     "metadata": {},
     "output_type": "execute_result"
    }
   ],
   "source": [
    "corpus.iloc[:,1].head()"
   ]
  },
  {
   "cell_type": "code",
   "execution_count": 7,
   "id": "224d601c",
   "metadata": {},
   "outputs": [],
   "source": [
    "corpus_data= pd.DataFrame(corpus.iloc[:,1])"
   ]
  },
  {
   "cell_type": "code",
   "execution_count": 8,
   "id": "186f9263",
   "metadata": {},
   "outputs": [
    {
     "data": {
      "text/plain": [
       "((1000000, 2), pandas.core.frame.DataFrame)"
      ]
     },
     "execution_count": 8,
     "metadata": {},
     "output_type": "execute_result"
    }
   ],
   "source": [
    "corpus.shape, type(corpus)"
   ]
  },
  {
   "cell_type": "code",
   "execution_count": 9,
   "id": "96ab13a7",
   "metadata": {},
   "outputs": [
    {
     "data": {
      "text/html": [
       "<div>\n",
       "<style scoped>\n",
       "    .dataframe tbody tr th:only-of-type {\n",
       "        vertical-align: middle;\n",
       "    }\n",
       "\n",
       "    .dataframe tbody tr th {\n",
       "        vertical-align: top;\n",
       "    }\n",
       "\n",
       "    .dataframe thead th {\n",
       "        text-align: right;\n",
       "    }\n",
       "</style>\n",
       "<table border=\"1\" class=\"dataframe\">\n",
       "  <thead>\n",
       "    <tr style=\"text-align: right;\">\n",
       "      <th></th>\n",
       "      <th>label</th>\n",
       "      <th>text</th>\n",
       "    </tr>\n",
       "  </thead>\n",
       "  <tbody>\n",
       "    <tr>\n",
       "      <th>0</th>\n",
       "      <td>__label__0</td>\n",
       "      <td>study interventions are recombinant CD40-ligan...</td>\n",
       "    </tr>\n",
       "    <tr>\n",
       "      <th>1</th>\n",
       "      <td>__label__0</td>\n",
       "      <td>study interventions are Liposomal doxorubicin ...</td>\n",
       "    </tr>\n",
       "    <tr>\n",
       "      <th>2</th>\n",
       "      <td>__label__0</td>\n",
       "      <td>study interventions are BI 836909 . multiple m...</td>\n",
       "    </tr>\n",
       "    <tr>\n",
       "      <th>3</th>\n",
       "      <td>__label__0</td>\n",
       "      <td>study interventions are Immunoglobulins . recu...</td>\n",
       "    </tr>\n",
       "    <tr>\n",
       "      <th>4</th>\n",
       "      <td>__label__0</td>\n",
       "      <td>study interventions are Paclitaxel . stage ova...</td>\n",
       "    </tr>\n",
       "  </tbody>\n",
       "</table>\n",
       "</div>"
      ],
      "text/plain": [
       "        label                                               text\n",
       "0  __label__0  study interventions are recombinant CD40-ligan...\n",
       "1  __label__0  study interventions are Liposomal doxorubicin ...\n",
       "2  __label__0  study interventions are BI 836909 . multiple m...\n",
       "3  __label__0  study interventions are Immunoglobulins . recu...\n",
       "4  __label__0  study interventions are Paclitaxel . stage ova..."
      ]
     },
     "execution_count": 9,
     "metadata": {},
     "output_type": "execute_result"
    }
   ],
   "source": [
    "corpus.columns = ['label','text']\n",
    "corpus.head()"
   ]
  },
  {
   "cell_type": "code",
   "execution_count": 10,
   "id": "beca519b",
   "metadata": {},
   "outputs": [
    {
     "data": {
      "text/html": [
       "<div>\n",
       "<style scoped>\n",
       "    .dataframe tbody tr th:only-of-type {\n",
       "        vertical-align: middle;\n",
       "    }\n",
       "\n",
       "    .dataframe tbody tr th {\n",
       "        vertical-align: top;\n",
       "    }\n",
       "\n",
       "    .dataframe thead th {\n",
       "        text-align: right;\n",
       "    }\n",
       "</style>\n",
       "<table border=\"1\" class=\"dataframe\">\n",
       "  <thead>\n",
       "    <tr style=\"text-align: right;\">\n",
       "      <th></th>\n",
       "      <th>label</th>\n",
       "      <th>text</th>\n",
       "    </tr>\n",
       "  </thead>\n",
       "  <tbody>\n",
       "    <tr>\n",
       "      <th>0</th>\n",
       "      <td>__label__0</td>\n",
       "      <td>study interventions are recombinant CD40-ligan...</td>\n",
       "    </tr>\n",
       "    <tr>\n",
       "      <th>1</th>\n",
       "      <td>__label__1</td>\n",
       "      <td>study interventions are Prednisone . patients ...</td>\n",
       "    </tr>\n",
       "  </tbody>\n",
       "</table>\n",
       "</div>"
      ],
      "text/plain": [
       "        label                                               text\n",
       "0  __label__0  study interventions are recombinant CD40-ligan...\n",
       "1  __label__1  study interventions are Prednisone . patients ..."
      ]
     },
     "execution_count": 10,
     "metadata": {},
     "output_type": "execute_result"
    }
   ],
   "source": [
    "corpus_blob = corpus.groupby('label')['text'].apply(' '.join).reset_index()\n",
    "corpus_blob"
   ]
  },
  {
   "cell_type": "code",
   "execution_count": 11,
   "id": "2db17176",
   "metadata": {},
   "outputs": [
    {
     "data": {
      "text/plain": [
       "(83466072,\n",
       " 'study interventions are recombinant CD40-ligand . melanoma skin diagnosis and no active cns metastases by ct scan or mri study interventions are Liposomal doxorubicin . colorectal cancer diagnosis and cardiovascular study interventions are BI 836909 . multiple myeloma diagnosis and indwelling central venous cateder or willingness to undergo intra venous central line placement study interventions are Immunoglobulins . recurrent fallopian tube carcinoma diagnosis and patients are allowed to receiv')"
      ]
     },
     "execution_count": 11,
     "metadata": {},
     "output_type": "execute_result"
    }
   ],
   "source": [
    "inclusion_criteria_0 = corpus_blob['text'][0]\n",
    "len(inclusion_criteria_0),inclusion_criteria_0[0:500]"
   ]
  },
  {
   "cell_type": "code",
   "execution_count": 12,
   "id": "2e3c8efe",
   "metadata": {},
   "outputs": [],
   "source": [
    "inclusion_criteria = corpus['text']"
   ]
  },
  {
   "cell_type": "code",
   "execution_count": 13,
   "id": "db37bcfd",
   "metadata": {},
   "outputs": [],
   "source": [
    "stoplist = set('for a of the and to in is at an must be with are but not no none has have other from as prior or except none see below . study , use \" one two three four five six patients before start greater than any allowed by for they since'.split())\n",
    "texts = [[word for word in inclusion_criteria.split() if word not in stoplist]\n",
    "         for inclusion_criteria in inclusion_criteria]"
   ]
  },
  {
   "cell_type": "code",
   "execution_count": 14,
   "id": "861347e8",
   "metadata": {},
   "outputs": [
    {
     "data": {
      "text/plain": [
       "1000000"
      ]
     },
     "execution_count": 14,
     "metadata": {},
     "output_type": "execute_result"
    }
   ],
   "source": [
    "len(texts)"
   ]
  },
  {
   "cell_type": "code",
   "execution_count": 15,
   "id": "511969ea",
   "metadata": {},
   "outputs": [
    {
     "data": {
      "text/plain": [
       "[['interventions',\n",
       "  'Androgens',\n",
       "  'prostate',\n",
       "  'cancer',\n",
       "  'diagnosis',\n",
       "  'patient',\n",
       "  'characteristics'],\n",
       " ['interventions',\n",
       "  'Bortezomib',\n",
       "  'multiple',\n",
       "  'myeloma',\n",
       "  'diagnosis',\n",
       "  'renal',\n",
       "  'insufficiency',\n",
       "  's'],\n",
       " ['interventions',\n",
       "  'Prednisone',\n",
       "  'testicular',\n",
       "  'lymphoma',\n",
       "  'diagnosis',\n",
       "  'bulky',\n",
       "  'disease',\n",
       "  'greater_than',\n",
       "  'equal_than',\n",
       "  'cm',\n",
       "  'least',\n",
       "  'dimension'],\n",
       " ['interventions',\n",
       "  'Razoxane',\n",
       "  'unspecified',\n",
       "  'adult',\n",
       "  'solid',\n",
       "  'tumor',\n",
       "  'protocol',\n",
       "  'specific',\n",
       "  'diagnosis',\n",
       "  'platelet',\n",
       "  'count',\n",
       "  'greater_than',\n",
       "  'hundred',\n",
       "  'zero',\n",
       "  'mm³'],\n",
       " ['interventions',\n",
       "  'Fludarabine',\n",
       "  'natural_killer',\n",
       "  'cell',\n",
       "  'lymphoblastic',\n",
       "  'leukemia',\n",
       "  'lymphoma',\n",
       "  'diagnosis',\n",
       "  'bilirubin',\n",
       "  'more',\n",
       "  'doc',\n",
       "  'mg',\n",
       "  'dl',\n",
       "  'alanine',\n",
       "  'aminotransferase',\n",
       "  'alt',\n",
       "  'aspartate',\n",
       "  'aminotransferase',\n",
       "  'ast',\n",
       "  'alkaline',\n",
       "  'phosphatase',\n",
       "  'alp',\n",
       "  'more',\n",
       "  'times',\n",
       "  'upper',\n",
       "  'limit',\n",
       "  'normal',\n",
       "  'uln'],\n",
       " ['interventions',\n",
       "  'Fludarabine',\n",
       "  'phosphate',\n",
       "  'stage',\n",
       "  'iv',\n",
       "  'adult',\n",
       "  'immunoblastic',\n",
       "  'large',\n",
       "  'cell',\n",
       "  'lymphoma',\n",
       "  'diagnosis',\n",
       "  'unrelated',\n",
       "  'donor'],\n",
       " ['interventions',\n",
       "  'Interferon-gamma',\n",
       "  'lung',\n",
       "  'cancer',\n",
       "  'diagnosis',\n",
       "  'endocrine',\n",
       "  'therapy'],\n",
       " ['interventions',\n",
       "  'Antibodies',\n",
       "  'intraocular',\n",
       "  'lymphoma',\n",
       "  'diagnosis',\n",
       "  'may',\n",
       "  'treated',\n",
       "  'first',\n",
       "  'cr'],\n",
       " ['interventions',\n",
       "  'Pharmacological',\n",
       "  'Study',\n",
       "  'dermatofibrosarcoma_protuberans',\n",
       "  'diagnosis',\n",
       "  'platelets',\n",
       "  'greater_than',\n",
       "  'equal_than',\n",
       "  'hundred',\n",
       "  'zero',\n",
       "  'mcl']]"
      ]
     },
     "execution_count": 15,
     "metadata": {},
     "output_type": "execute_result"
    }
   ],
   "source": [
    "texts[11:20]"
   ]
  },
  {
   "cell_type": "code",
   "execution_count": 16,
   "id": "142cd8fb",
   "metadata": {},
   "outputs": [
    {
     "data": {
      "text/plain": [
       "(1000000,\n",
       " [['interventions',\n",
       "   'Liposomal',\n",
       "   'doxorubicin',\n",
       "   'colorectal',\n",
       "   'cancer',\n",
       "   'diagnosis',\n",
       "   'cardiovascular'],\n",
       "  ['interventions',\n",
       "   'BI',\n",
       "   '836909',\n",
       "   'multiple',\n",
       "   'myeloma',\n",
       "   'diagnosis',\n",
       "   'indwelling',\n",
       "   'central',\n",
       "   'venous',\n",
       "   'cateder',\n",
       "   'willingness',\n",
       "   'undergo',\n",
       "   'intra',\n",
       "   'venous',\n",
       "   'central',\n",
       "   'line',\n",
       "   'placement'],\n",
       "  ['interventions',\n",
       "   'Immunoglobulins',\n",
       "   'recurrent',\n",
       "   'fallopian',\n",
       "   'tube',\n",
       "   'carcinoma',\n",
       "   'diagnosis',\n",
       "   'receive',\n",
       "   'required',\n",
       "   'receive',\n",
       "   'additional',\n",
       "   'cytotoxic',\n",
       "   'regimens',\n",
       "   'management',\n",
       "   'recurrent',\n",
       "   'persistent',\n",
       "   'disease',\n",
       "   'more',\n",
       "   'non',\n",
       "   'platinum',\n",
       "   'non',\n",
       "   'taxane',\n",
       "   'regimen'],\n",
       "  ['interventions',\n",
       "   'Paclitaxel',\n",
       "   'stage',\n",
       "   'ovarian',\n",
       "   'cancer',\n",
       "   'diagnosis',\n",
       "   'recovered',\n",
       "   'effects',\n",
       "   'recent',\n",
       "   'surgery',\n",
       "   'radiotherapy',\n",
       "   'therapy'],\n",
       "  ['interventions',\n",
       "   'Antibodies,',\n",
       "   'Monoclonal',\n",
       "   'recurrent',\n",
       "   'verrucous',\n",
       "   'carcinoma',\n",
       "   'oral',\n",
       "   'cavity',\n",
       "   'diagnosis',\n",
       "   'undergone',\n",
       "   'radiotherapy',\n",
       "   'component',\n",
       "   'treatment'],\n",
       "  ['interventions',\n",
       "   'Hormones',\n",
       "   'prostate',\n",
       "   'cancer',\n",
       "   'diagnosis',\n",
       "   'imaging',\n",
       "   'examinations',\n",
       "   'including',\n",
       "   'emission',\n",
       "   'computed',\n",
       "   'tomography',\n",
       "   'ect',\n",
       "   'positron_emission',\n",
       "   'tomography',\n",
       "   'pet',\n",
       "   'computed',\n",
       "   'tomography',\n",
       "   'ct',\n",
       "   'magnetic',\n",
       "   'resonance',\n",
       "   'imaging',\n",
       "   'mri',\n",
       "   'revealed',\n",
       "   'non',\n",
       "   'regional',\n",
       "   'lymph',\n",
       "   'node',\n",
       "   'metastasis',\n",
       "   'bone',\n",
       "   'metastasis',\n",
       "   'visceral',\n",
       "   'metastasis'],\n",
       "  ['interventions',\n",
       "   'Bendamustine',\n",
       "   'Hydrochloride',\n",
       "   'diffuse',\n",
       "   'large',\n",
       "   'cell',\n",
       "   'lymphoma',\n",
       "   'diagnosis',\n",
       "   'previous',\n",
       "   'treatment'],\n",
       "  ['interventions',\n",
       "   'Nivolumab',\n",
       "   'recovered',\n",
       "   'all',\n",
       "   'toxicities',\n",
       "   'associated',\n",
       "   'treatment',\n",
       "   'acceptable',\n",
       "   'baseline',\n",
       "   'status',\n",
       "   'laboratory',\n",
       "   'toxicity',\n",
       "   'limits',\n",
       "   'inclusion',\n",
       "   'national',\n",
       "   'cancer',\n",
       "   'institute',\n",
       "   'common',\n",
       "   'terminology',\n",
       "   'criteria',\n",
       "   'adverse',\n",
       "   'events',\n",
       "   'nci',\n",
       "   'ctcae',\n",
       "   'version',\n",
       "   'doc',\n",
       "   'grade',\n",
       "   'zero',\n",
       "   'toxicities',\n",
       "   'considered',\n",
       "   'safety',\n",
       "   'risk',\n",
       "   'alopecia',\n",
       "   'vitiligo'],\n",
       "  ['interventions',\n",
       "   'Thalidomide',\n",
       "   'kidney',\n",
       "   'cancer',\n",
       "   'diagnosis',\n",
       "   'diabetes',\n",
       "   'mellitus']])"
      ]
     },
     "execution_count": 16,
     "metadata": {},
     "output_type": "execute_result"
    }
   ],
   "source": [
    "len(texts), texts[1:10]"
   ]
  },
  {
   "cell_type": "code",
   "execution_count": 17,
   "id": "8e928729",
   "metadata": {},
   "outputs": [
    {
     "name": "stderr",
     "output_type": "stream",
     "text": [
      "[nltk_data] Downloading package punkt to /Users/riya/nltk_data...\n",
      "[nltk_data]   Package punkt is already up-to-date!\n",
      "[nltk_data] Downloading package stopwords to /Users/riya/nltk_data...\n",
      "[nltk_data]   Package stopwords is already up-to-date!\n"
     ]
    },
    {
     "data": {
      "text/plain": [
       "True"
      ]
     },
     "execution_count": 17,
     "metadata": {},
     "output_type": "execute_result"
    }
   ],
   "source": [
    "nltk.download(\"punkt\")\n",
    "nltk.download(\"stopwords\")"
   ]
  },
  {
   "cell_type": "code",
   "execution_count": 18,
   "id": "924e7b79",
   "metadata": {},
   "outputs": [
    {
     "data": {
      "text/plain": [
       "list"
      ]
     },
     "execution_count": 18,
     "metadata": {},
     "output_type": "execute_result"
    }
   ],
   "source": [
    "type(texts)"
   ]
  },
  {
   "cell_type": "code",
   "execution_count": 19,
   "id": "9f07ab65",
   "metadata": {},
   "outputs": [],
   "source": [
    "#f = codecs.open('C:\\Python26\\text.txt', 'r', 'utf-8-sig')\n",
    "#text = f.read()\n",
    "tok_corp = nltk.word_tokenize(str(texts))"
   ]
  },
  {
   "cell_type": "code",
   "execution_count": 20,
   "id": "103f47c7",
   "metadata": {},
   "outputs": [
    {
     "data": {
      "text/plain": [
       "(49525886,\n",
       " ['[',\n",
       "  \"'interventions\",\n",
       "  \"'\",\n",
       "  ',',\n",
       "  \"'recombinant\",\n",
       "  \"'\",\n",
       "  ',',\n",
       "  \"'CD40-ligand\",\n",
       "  \"'\",\n",
       "  ',',\n",
       "  \"'melanoma\",\n",
       "  \"'\",\n",
       "  ',',\n",
       "  \"'skin\",\n",
       "  \"'\",\n",
       "  ',',\n",
       "  \"'diagnosis\",\n",
       "  \"'\",\n",
       "  ','])"
      ]
     },
     "execution_count": 20,
     "metadata": {},
     "output_type": "execute_result"
    }
   ],
   "source": [
    "len(tok_corp), tok_corp[1:20]"
   ]
  },
  {
   "cell_type": "code",
   "execution_count": 21,
   "id": "eecbb741",
   "metadata": {},
   "outputs": [
    {
     "name": "stdout",
     "output_type": "stream",
     "text": [
      "word_tokenize():\t 32.126611948013306\n"
     ]
    }
   ],
   "source": [
    "start = time.time()\n",
    "\n",
    "ct2vec = Word2Vec(\n",
    "    texts,\n",
    "    workers=16,\n",
    "    vector_size=100,  # Use vector_size instead of size\n",
    "    min_count=5,\n",
    "    window=5,\n",
    "    sample=1e-3,\n",
    ")\n",
    "\n",
    "print ('word_tokenize():\\t', time.time() - start)"
   ]
  },
  {
   "cell_type": "code",
   "execution_count": 22,
   "id": "42d9d7df",
   "metadata": {},
   "outputs": [
    {
     "name": "stdout",
     "output_type": "stream",
     "text": [
      "[-2.1145658   1.3511608   0.66350996  0.4745511  -2.7864952   1.5408239\n",
      "  0.83188546  3.3434525  -0.52998483  0.5644837  -4.000544   -0.20449512\n",
      " -1.8018982  -5.0597157  -0.2141961  -1.3699626   1.3617474  -1.1239318\n",
      " -0.7897119  -0.04805114 -1.0879755   0.7907672  -0.45735386  2.5695508\n",
      " -1.4550229   3.1493175   1.9716183   2.0201507  -2.678331    2.4539492\n",
      " -1.8255905  -1.5249468  -1.1627918  -0.6171662   1.6703498   2.5315893\n",
      " -0.58376575 -4.1336613   0.21674336 -0.49712202 -5.835768    2.3444736\n",
      " -1.8137488   0.62104946 -0.517315   -4.736142   -2.538733   -1.1758428\n",
      "  2.2463741  -0.3224473   0.74021333 -0.85321003  2.8930547   0.04246891\n",
      " -4.258592   -1.7215632   1.9342728  -0.65754443  1.98768     1.31671\n",
      " -0.60912734  2.4075463   3.2649481  -1.5067153   1.6887398   0.6633978\n",
      " -2.3813567   0.2519183   3.077182    3.8178139  -0.39845133 -1.1383033\n",
      " -2.3794765  -1.3364817   0.41527313 -1.0046449   0.4840322   1.2718186\n",
      "  0.6959984  -0.52758044 -0.306217   -5.170276   -0.5945125   0.15030079\n",
      " -3.4817092  -1.922758   -1.45006     0.7091256  -3.98057    -3.6984217\n",
      " -1.0563571   0.7877526   1.8021271   1.6741602  -1.3558781   0.87276334\n",
      "  0.04334576 -1.3251065   4.535784    0.18732202]\n"
     ]
    }
   ],
   "source": [
    "word_vector = ct2vec.wv['aml']\n",
    "\n",
    "# Now you can work with the word vector\n",
    "print(word_vector)"
   ]
  },
  {
   "cell_type": "code",
   "execution_count": 23,
   "id": "cb95b221",
   "metadata": {},
   "outputs": [
    {
     "data": {
      "text/plain": [
       "100"
      ]
     },
     "execution_count": 23,
     "metadata": {},
     "output_type": "execute_result"
    }
   ],
   "source": [
    "len(word_vector)"
   ]
  },
  {
   "cell_type": "code",
   "execution_count": 24,
   "id": "459b4445",
   "metadata": {},
   "outputs": [
    {
     "name": "stdout",
     "output_type": "stream",
     "text": [
      "mds 0.6986521482467651\n",
      "cml 0.5964751243591309\n",
      "blast 0.5658512115478516\n",
      "crthree 0.5626425743103027\n",
      "blasts 0.5526569485664368\n",
      "rcmd 0.5455252528190613\n",
      "myelodysplasia 0.5383407473564148\n",
      "mpn 0.5287440419197083\n",
      "massively_parallel 0.5204973816871643\n",
      "raeb 0.5201051831245422\n"
     ]
    }
   ],
   "source": [
    "similar_words1 = ct2vec.wv.most_similar('aml')\n",
    "\n",
    "# Now you can print the similar words and their similarity scores\n",
    "for word, score in similar_words1:\n",
    "    print(word, score)"
   ]
  },
  {
   "cell_type": "code",
   "execution_count": 25,
   "id": "3a76cf3c",
   "metadata": {},
   "outputs": [
    {
     "name": "stdout",
     "output_type": "stream",
     "text": [
      "Niacinamide 0.9935101270675659\n",
      "Sunitinib 0.9206367135047913\n",
      "Tremelimumab 0.9017098546028137\n",
      "Bevacizumab 0.8968151211738586\n",
      "Trebananib 0.8850938677787781\n",
      "Everolimus 0.8839365243911743\n",
      "Sirolimus 0.878308117389679\n",
      "Epothilones 0.8662610054016113\n",
      "Interferons 0.8635228872299194\n",
      "Vatalanib 0.8524037003517151\n"
     ]
    }
   ],
   "source": [
    "similar_words2 = ct2vec.wv.most_similar('Sorafenib')\n",
    "\n",
    "# Now you can print the similar words and their similarity scores\n",
    "for word, score in similar_words2:\n",
    "    print(word, score)"
   ]
  },
  {
   "cell_type": "code",
   "execution_count": 26,
   "id": "7b7aaf03",
   "metadata": {},
   "outputs": [
    {
     "name": "stdout",
     "output_type": "stream",
     "text": [
      "Nivolumab 0.9400351047515869\n",
      "Vaccines 0.8681163191795349\n",
      "Sirolimus 0.8669161796569824\n",
      "Antibodies 0.8664478659629822\n",
      "Carboplatin 0.8616379499435425\n",
      "Everolimus 0.8598463535308838\n",
      "Tremelimumab 0.8593465685844421\n",
      "Immunoglobulins 0.8563290238380432\n",
      "Bevacizumab 0.8559635877609253\n",
      "Azacitidine 0.85268634557724\n"
     ]
    }
   ],
   "source": [
    "similar_words3 = ct2vec.wv.most_similar('Pembrolizumab')\n",
    "\n",
    "# Now you can print the similar words and their similarity scores\n",
    "for word, score in similar_words3:\n",
    "    print(word, score)"
   ]
  },
  {
   "cell_type": "code",
   "execution_count": 27,
   "id": "0571a8ff",
   "metadata": {},
   "outputs": [
    {
     "name": "stdout",
     "output_type": "stream",
     "text": [
      "Deslorelin 0.8285701870918274\n",
      "Methyltestosterone 0.8111528754234314\n",
      "Goserelin 0.8017089366912842\n",
      "Hormones 0.7985414862632751\n",
      "Androgens 0.7953587770462036\n",
      "Estradiol 0.7932674288749695\n",
      "Choline 0.7912231087684631\n",
      "Naïve 0.7768749594688416\n",
      "Antagonists 0.7762370705604553\n",
      "Listerine 0.7733756303787231\n"
     ]
    }
   ],
   "source": [
    "similar_words4 = ct2vec.wv.most_similar('Enzalutamide')\n",
    "\n",
    "# Now you can print the similar words and their similarity scores\n",
    "for word, score in similar_words4:\n",
    "    print(word, score)"
   ]
  },
  {
   "cell_type": "code",
   "execution_count": 28,
   "id": "c79c906a",
   "metadata": {},
   "outputs": [
    {
     "name": "stdout",
     "output_type": "stream",
     "text": [
      "Receptor 0.9319453835487366\n",
      "Modulators 0.9109615683555603\n",
      "Selective 0.8811661005020142\n",
      "Androgen 0.8058294653892517\n",
      "Female 0.7650042176246643\n",
      "Endothelin 0.7489271759986877\n",
      "Antagonists 0.7431687116622925\n",
      "Naïve 0.7388229370117188\n",
      "AR(+) 0.7262250781059265\n",
      "Esterified 0.7202023267745972\n"
     ]
    }
   ],
   "source": [
    "similar_words5 = ct2vec.wv.most_similar('Estrogen')\n",
    "\n",
    "# Now you can print the similar words and their similarity scores\n",
    "for word, score in similar_words5:\n",
    "    print(word, score)"
   ]
  },
  {
   "cell_type": "code",
   "execution_count": 29,
   "id": "bf684207",
   "metadata": {},
   "outputs": [
    {
     "name": "stdout",
     "output_type": "stream",
     "text": [
      "platin 0.7410343885421753\n",
      "taxane 0.6402767896652222\n",
      "cisplatin 0.6063947081565857\n",
      "doublet 0.5912148356437683\n",
      "carboplatin 0.5754563212394714\n",
      "irinotecan 0.5285742282867432\n",
      "docetaxel 0.5185473561286926\n",
      "paclitaxel 0.5177183747291565\n",
      "anthracycline 0.5145747661590576\n",
      "fludarabine 0.5111420154571533\n"
     ]
    }
   ],
   "source": [
    "similar_words6 = ct2vec.wv.most_similar('platinum')\n",
    "\n",
    "# Now you can print the similar words and their similarity scores\n",
    "for word, score in similar_words6:\n",
    "    print(word, score)"
   ]
  },
  {
   "cell_type": "code",
   "execution_count": 30,
   "id": "ac9eaff5",
   "metadata": {},
   "outputs": [
    {
     "name": "stdout",
     "output_type": "stream",
     "text": [
      "docetaxel 0.7576215267181396\n",
      "doublet 0.7339401841163635\n",
      "taxanes 0.7146059274673462\n",
      "gemcitabine 0.70925372838974\n",
      "anthracycline 0.7074609994888306\n",
      "anthracenedione 0.6992945075035095\n",
      "pertuzumab 0.6853770613670349\n",
      "trastuzumab 0.6800011396408081\n",
      "cisplatin 0.6699714064598083\n",
      "ifosfamide 0.6696011424064636\n"
     ]
    }
   ],
   "source": [
    "similar_words7 = ct2vec.wv.most_similar('taxane')\n",
    "\n",
    "# Now you can print the similar words and their similarity scores\n",
    "for word, score in similar_words7:\n",
    "    print(word, score)"
   ]
  },
  {
   "cell_type": "code",
   "execution_count": 31,
   "id": "adc88b39",
   "metadata": {},
   "outputs": [
    {
     "name": "stdout",
     "output_type": "stream",
     "text": [
      "Adoptive 0.9147209525108337\n",
      "re-directed 0.9054717421531677\n",
      "Anti-CD19 0.900149941444397\n",
      "(Tcon) 0.8967012166976929\n",
      "Regulatory 0.8934257626533508\n",
      "Coated 0.8914444446563721\n",
      "Cevimeline 0.8888653516769409\n",
      "pbl 0.8887392282485962\n",
      "triab 0.8874592185020447\n",
      "MASCT:Multiple 0.8872642517089844\n"
     ]
    }
   ],
   "source": [
    "similar_words8 = ct2vec.wv.most_similar('CD20')\n",
    "\n",
    "# Now you can print the similar words and their similarity scores\n",
    "for word, score in similar_words8:\n",
    "    print(word, score)"
   ]
  },
  {
   "cell_type": "code",
   "execution_count": 32,
   "id": "5d609db2",
   "metadata": {},
   "outputs": [
    {
     "name": "stdout",
     "output_type": "stream",
     "text": [
      "GORE 0.9385590553283691\n",
      "roche 0.936242938041687\n",
      "Adoptive 0.9292804002761841\n",
      "FAmily 0.9280421733856201\n",
      "mesenterial 0.9266427755355835\n",
      "re-directed 0.9257633686065674\n",
      "Angel 0.9234329462051392\n",
      "COMBI 0.9233877062797546\n",
      "CEntered 0.9193718433380127\n",
      "DC-Tn-MUC1: 0.9188767671585083\n"
     ]
    }
   ],
   "source": [
    "similar_words9 = ct2vec.wv.most_similar('Anti-CD19')\n",
    "\n",
    "# Now you can print the similar words and their similarity scores\n",
    "for word, score in similar_words9:\n",
    "    print(word, score)"
   ]
  },
  {
   "cell_type": "code",
   "execution_count": 33,
   "id": "e869cacb",
   "metadata": {},
   "outputs": [
    {
     "name": "stdout",
     "output_type": "stream",
     "text": [
      "Anti-CD19 0.9087074398994446\n",
      "CD20 0.8810739517211914\n",
      "Adoptive 0.8754544854164124\n",
      "DC-Tn-MUC1: 0.8707364201545715\n",
      "re-directed 0.8688539266586304\n",
      "Miltenyi 0.853929340839386\n",
      "recognizing 0.8428816795349121\n",
      "(CMV)-Specific 0.8380458950996399\n",
      "(Tcon) 0.8365114331245422\n",
      "tkr 0.8328790664672852\n"
     ]
    }
   ],
   "source": [
    "similar_words10 = ct2vec.wv.most_similar('Anti-CD20')\n",
    "\n",
    "# Now you can print the similar words and their similarity scores\n",
    "for word, score in similar_words10:\n",
    "    print(word, score)"
   ]
  },
  {
   "cell_type": "code",
   "execution_count": 34,
   "id": "ca83ec3e",
   "metadata": {},
   "outputs": [
    {
     "name": "stdout",
     "output_type": "stream",
     "text": [
      "brentuximab_vedotin 0.6268271803855896\n",
      "chop 0.5913394093513489\n",
      "lenalidomide 0.5738398432731628\n",
      "bortezomib 0.5692863464355469\n",
      "cyclophosphamide 0.5524473786354065\n",
      "radioimmunotherapy 0.5496864914894104\n",
      "ibrutinib 0.5472772717475891\n",
      "fludarabine 0.5393707156181335\n",
      "carfilzomib 0.5363517999649048\n",
      "fcr 0.5317872166633606\n"
     ]
    }
   ],
   "source": [
    "similar_words11 = ct2vec.wv.most_similar('rituximab')\n",
    "\n",
    "# Now you can print the similar words and their similarity scores\n",
    "for word, score in similar_words11:\n",
    "    print(word, score)"
   ]
  },
  {
   "cell_type": "code",
   "execution_count": null,
   "id": "9a6a18d5",
   "metadata": {},
   "outputs": [],
   "source": []
  }
 ],
 "metadata": {
  "kernelspec": {
   "display_name": "Python 3 (ipykernel)",
   "language": "python",
   "name": "python3"
  },
  "language_info": {
   "codemirror_mode": {
    "name": "ipython",
    "version": 3
   },
   "file_extension": ".py",
   "mimetype": "text/x-python",
   "name": "python",
   "nbconvert_exporter": "python",
   "pygments_lexer": "ipython3",
   "version": "3.9.12"
  }
 },
 "nbformat": 4,
 "nbformat_minor": 5
}
